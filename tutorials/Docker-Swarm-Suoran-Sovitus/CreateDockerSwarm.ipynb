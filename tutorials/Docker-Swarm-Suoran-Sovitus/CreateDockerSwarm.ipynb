{
 "cells": [
  {
   "cell_type": "markdown",
   "metadata": {},
   "source": [
    "# Docker Swarm startup\n",
    "\n",
    "This example runs a [Docker Swarm Mode](https://docs.docker.com/engine/swarm/key-concepts/) swarm with one manager and one worker node.\n",
    "\n",
    "The example needs to configure [ssh-keys](https://www.ssh.com/ssh/key/#how-to-configure-key-based-authentication) for the manager and worker. Keys can be generated with the Notebook, and copying them to manager and worker node requires authentication for the first time. The passwords needed for that are read from files `manager.password` and `worker.password` in the work folder. __Please create those__."
   ]
  },
  {
   "cell_type": "markdown",
   "metadata": {},
   "source": [
    "## Installing required packages\n",
    "- Ssh-client is required for connecting to manager and worker hosts.\n",
    "- Expect is used for entering password while adding the ssh-keys"
   ]
  },
  {
   "cell_type": "code",
   "execution_count": null,
   "metadata": {},
   "outputs": [],
   "source": [
    "# Install requirements\n",
    "\n",
    "!sudo apt -y update && sudo apt -y install ssh-client expect\n",
    "\n",
    "# TODO later we will likely need python packages too. Below is an example how to install them.\n",
    "#import sys\n",
    "#!conda install --yes --prefix {sys.prefix} --file requirements.txt"
   ]
  },
  {
   "cell_type": "markdown",
   "metadata": {},
   "source": [
    "## Configuration variables\n",
    "`MANAGER_IP` and `WORKER_IP` addresses are needed and must be accessible from network.\n",
    "\n",
    "Passwords have to be in files `manager.password` and `worker.password` which are ignored from version control."
   ]
  },
  {
   "cell_type": "code",
   "execution_count": null,
   "metadata": {},
   "outputs": [],
   "source": [
    "MANAGER_IP='10.0.2.69'\n",
    "MANAGER_SSH_USER='petrisi'\n",
    "outputs=!cat manager.password\n",
    "MANAGER_PASSWORD=outputs[0]\n",
    "WORKER_IP='10.0.2.68'\n",
    "WORKER_SSH_USER='petrisi'\n",
    "outputs=!cat worker.password\n",
    "WORKER_PASSWORD=outputs[0]"
   ]
  },
  {
   "cell_type": "markdown",
   "metadata": {},
   "source": [
    "## Environment configuration\n",
    "Install a ssh-config to skip strict host key checks on MANAGER_IP and WORKER_IP connections."
   ]
  },
  {
   "cell_type": "code",
   "execution_count": null,
   "metadata": {},
   "outputs": [],
   "source": [
    "%%script env MANAGER_IP=\"$MANAGER_IP\" WORKER_IP=\"$WORKER_IP\" MANAGER_SSH_USER=\"$MANAGER_SSH_USER\" WORKER_SSH_USER=\"$WORKER_SSH_USER\" bash\n",
    "\n",
    "cat << EOF >$HOME/.ssh/config\n",
    "Host $MANAGER_IP $WORKER_IP\n",
    "    StrictHostKeyChecking no\n",
    "    IdentityFile ~/.ssh/mykey\n",
    "Host $MANAGER_IP\n",
    "    User $MANAGER_SSH_USER\n",
    "Host $WORKER_IP\n",
    "    User $WORKER_SSH_USER\n",
    "EOF"
   ]
  },
  {
   "cell_type": "markdown",
   "metadata": {},
   "source": [
    "Generate the ssh-keys"
   ]
  },
  {
   "cell_type": "code",
   "execution_count": null,
   "metadata": {},
   "outputs": [],
   "source": [
    "!ssh-keygen -N \"\" -C \"jupyternb@$(hostname)\" -f $HOME/.ssh/mykey"
   ]
  },
  {
   "cell_type": "markdown",
   "metadata": {},
   "source": [
    "Copy ssh-key to MANAGER host."
   ]
  },
  {
   "cell_type": "code",
   "execution_count": null,
   "metadata": {},
   "outputs": [],
   "source": [
    "%%script env MY_PASSWORD=\"$MANAGER_PASSWORD\" MANAGER_IP=\"$MANAGER_IP\" MANAGER_SSH_USER=\"$MANAGER_SSH_USER\" bash\n",
    "\n",
    "cat << EOF | /usr/bin/expect -\n",
    "set timeout 1\n",
    "spawn ssh-copy-id -i $HOME/.ssh/mykey ${MANAGER_SSH_USER}@${MANAGER_IP}\n",
    "expect \"Password:\"\n",
    "send \"$MY_PASSWORD\\n\"\n",
    "expect eof\n",
    "EOF"
   ]
  },
  {
   "cell_type": "markdown",
   "metadata": {},
   "source": [
    "Copy ssh-key to WORKER host."
   ]
  },
  {
   "cell_type": "code",
   "execution_count": null,
   "metadata": {},
   "outputs": [],
   "source": [
    "%%script env MY_PASSWORD=\"$WORKER_PASSWORD\" WORKER_IP=\"$WORKER_IP\" WORKER_SSH_USER=\"$WORKER_SSH_USER\" bash\n",
    "\n",
    "cat << EOF | /usr/bin/expect -\n",
    "set timeout 1\n",
    "spawn ssh-copy-id -i $HOME/.ssh/mykey ${WORKER_SSH_USER}@${WORKER_IP}\n",
    "expect \"Password:\"\n",
    "send \"$MY_PASSWORD\\n\"\n",
    "expect eof\n",
    "EOF"
   ]
  },
  {
   "cell_type": "markdown",
   "metadata": {},
   "source": [
    "Test the connection"
   ]
  },
  {
   "cell_type": "code",
   "execution_count": null,
   "metadata": {},
   "outputs": [],
   "source": [
    "!ssh $MANAGER_IP docker ps"
   ]
  },
  {
   "cell_type": "code",
   "execution_count": null,
   "metadata": {},
   "outputs": [],
   "source": [
    "!ssh $WORKER_IP docker ps"
   ]
  },
  {
   "cell_type": "code",
   "execution_count": null,
   "metadata": {},
   "outputs": [],
   "source": [
    "import re\n",
    "\n",
    "#msg = !docker swarm init --advertise-addr MANAGER_IP\n",
    "\n",
    "#manager_token=re.search(r'(?<=--token)\\w+', msg)"
   ]
  }
 ],
 "metadata": {
  "kernelspec": {
   "display_name": "Python 3",
   "language": "python",
   "name": "python3"
  },
  "language_info": {
   "codemirror_mode": {
    "name": "ipython",
    "version": 3
   },
   "file_extension": ".py",
   "mimetype": "text/x-python",
   "name": "python",
   "nbconvert_exporter": "python",
   "pygments_lexer": "ipython3",
   "version": "3.8.4"
  }
 },
 "nbformat": 4,
 "nbformat_minor": 4
}
